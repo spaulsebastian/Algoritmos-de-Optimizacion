{
 "cells": [
  {
   "attachments": {},
   "cell_type": "markdown",
   "metadata": {
    "slideshow": {
     "slide_type": "slide"
    }
   },
   "source": [
    "<img src=\"img/viu_logo.png\" width=\"200\">\n",
    "\n",
    "# 01MIAR - Python para Inteligencia Artificial\n",
    "## Presentación de la asignatura\n",
    "\n",
    "![logo](img/python_logo.png)\n",
    "\n",
    "*Ivan Fuertes*\n",
    "\n",
    "*Benjamin Arroquia Cuadros*"
   ]
  },
  {
   "attachments": {},
   "cell_type": "markdown",
   "metadata": {},
   "source": [
    "## Presentación\n",
    "\n",
    "Benjamin Arroquia Cuadros\n",
    "\n",
    "- email - benjamin.arroquia@professor.universidadviu.com\n",
    "- discord - https://discord.gg/AanJe5rqj\n",
    "- OneDrive - https://gplaneta-my.sharepoint.com/:f:/g/personal/ubac1a_psoplaneta_com/Er0RLXrR8mdAo0qoQ2QPbX8B-VURd5pkQ-ZpLQPdX2nr6g?e=rS71RC"
   ]
  },
  {
   "cell_type": "markdown",
   "metadata": {
    "slideshow": {
     "slide_type": "subslide"
    }
   },
   "source": [
    "## Objetivos\n",
    "- Diseñar e implementar programas básicos en Python\n",
    "- Conocer cómo desarrollar scripts y Jupyter Notebook\n",
    "- Saber importar y configurar módulos externos comunes en un entorno propio\n",
    "- Familiarización con modulos para análisis de datos (NumPy, pandas, matplotlib)\n",
    "- Conocer las técnicas básicas de análisis de datos\n"
   ]
  },
  {
   "cell_type": "markdown",
   "metadata": {},
   "source": [
    "## Metodología\n",
    "\n",
    "- Clase Expositiva\n",
    "- Actividad en Grupo\n",
    "- Problemas\n",
    "- Foros\n",
    "- Trabajo Autónomo"
   ]
  },
  {
   "attachments": {},
   "cell_type": "markdown",
   "metadata": {},
   "source": [
    "## Sesiones\n",
    "\n",
    "### Horario 18.00 a 20.00 CEST\n",
    "\n",
    "Sesiones Guía didáctica."
   ]
  },
  {
   "attachments": {},
   "cell_type": "markdown",
   "metadata": {
    "slideshow": {
     "slide_type": "slide"
    }
   },
   "source": [
    "## Recursos de la asignatura\n",
    "- En el aula virtual\n",
    " - Manual de la asignatura en el aula virtual\n",
    " - Jupyter notebooks de las clases\n",
    " - Actividades (descripción y entregas)\n",
    " \n",
    "* OneDrive - https://gplaneta-my.sharepoint.com/:f:/g/personal/ubac1a_psoplaneta_com/Er0RLXrR8mdAo0qoQ2QPbX8B-VURd5pkQ-ZpLQPdX2nr6g?e=rS71RC"
   ]
  },
  {
   "cell_type": "markdown",
   "metadata": {
    "slideshow": {
     "slide_type": "fragment"
    }
   },
   "source": [
    "- Documentación oficial \n",
    " - Python: https://docs.python.org/3/\n",
    " - NumPy: https://docs.scipy.org/doc/\n",
    " - pandas: https://pandas.pydata.org/index.html\n",
    " - matplotlib: https://matplotlib.org/"
   ]
  },
  {
   "attachments": {},
   "cell_type": "markdown",
   "metadata": {},
   "source": [
    "## Actividades y Entregas\n",
    "\n",
    "\n",
    "|Nombre | Tipo | Entrega | Peso [%]|\n",
    "| ---- | ---- | ---- | ---- |\n",
    "|Análisis y representación |  Portafolio | Informe | 30 |\n",
    "|Video* |  Portafolio | Informe | 10 |\n",
    "|Paper |  Portafolio | Informe | 10 |\n",
    "|Foros* |  Portafolio | Entrada en foro | 10 |\n",
    "|Examen |  Examen | Preguntas | 40 |\n",
    "\n",
    "$*$ No disponible en segunda convocatoria.\n",
    "\n",
    "### Primera convocatoria - 04/12/23\n",
    "\n",
    "### Segunda convocatoria - 02/02/24\n",
    "- No hay foro ni actividad de video en segunda convocatoria\n",
    "\n",
    "### Entrega de notebooks a través de las actividades del campus virtual"
   ]
  },
  {
   "attachments": {},
   "cell_type": "markdown",
   "metadata": {
    "slideshow": {
     "slide_type": "slide"
    }
   },
   "source": [
    "# Foro evaluable\n",
    "## Introducción\n",
    "- Generar Ideas Nuevas y Llegar a Nuevos Conocimientos\n",
    "- Sentido Crítico y Concluir con Medidas, Soluciones o Nuevos Enfoques\n",
    "- Aportación de o Desarrollo de Temas Relacionando Inteligencia Artificial y el Uso de Herramientas de Programación, en concreto Python\n",
    "- Aportaciones de Referencias\n",
    "\n",
    "## Tema 1\n",
    "- Chatgpt. \n",
    "\n",
    "¿Cómo puede sacarse partido en proyectos en los que se requiere de programación para tratamiento de datos?. \n",
    "\n",
    "¿Qué usos son o podrían ser los más habituales?\n",
    "\n",
    "Compare la respuesta de al menos dos IA generativas como ChatGPT para pedir código en Python.\n",
    "\n",
    "## Tema 2\n",
    "- Visualización de datos para el análisis de datos. Exploratory Data Analysis (EDA)\n",
    "\n",
    "Tipos de gráficos o representaciones de datos, usos más comunes y avanzados.\n",
    " \n",
    "## Tema 3\n",
    "- ¿Por qué Python? Alternativas a Python en la I.A. \n",
    "\n",
    "¿Qué otros lenguajes son utilizados? Casos de uso, de éxito...\n",
    "\n",
    "## Tema 4\n",
    "- Aplicaciónes para Inteligencia Artificial usando Python, \n",
    "\n",
    "Casos de éxito en empresa, casos de fracaso, beneficios al trabajar en Python en un proyecto real.\n",
    "\n",
    "## Tema 5\n",
    "- ¿Cómo implementar mejoras en los tiempos de ejecución de scripts de Python para el procesamiento de datos?\n",
    "\n",
    "Exposición de fragmentos de código corto destaclables (snippets) sobre Python básico o de Pandas para el tratamiento de datos. \n",
    " \n",
    "## Evaluación\n",
    "- 10% de la Nota Final.\n",
    "- Sólo se Podrá Participar en Primera Convocatoria.\n",
    "- Mínimo para Obtener una Nota será de dos participaciones en el grupo correspondiente.\n",
    "- 6 Noviembre primeras notas de foro."
   ]
  },
  {
   "attachments": {},
   "cell_type": "markdown",
   "metadata": {
    "slideshow": {
     "slide_type": "subslide"
    }
   },
   "source": [
    "## Instalación local\n",
    "Se puede optar por las siguientes configuraciones:\n",
    "- Local con Anaconda *(tiene jupyter)*\n",
    "- Docker container*\n",
    "- Instalar Python y entorno virtual*\n",
    "- Google colab\n",
    "- IDEs: VSCode, PyCharm...\n",
    "\n",
    "$*$  [Tensorflow requirements](https://www.tensorflow.org/install/pip) Python 3.8 a 3.11 y Keras [Keras requirements](https://keras.io/about/) Python 3.7–3.10"
   ]
  },
  {
   "attachments": {},
   "cell_type": "markdown",
   "metadata": {},
   "source": [
    "### Recomendación\n",
    "1. Instalación Anaconda\n",
    "2. Crear entorno virtual en la carpteta\n",
    "\n",
    "```bash\n",
    "conda deactivate\n",
    "pip install virtualenv\n",
    "virtualenv ./venv\n",
    "source venv/bin/activate\n",
    "pip install --upgrade pip\n",
    "echo \"./venv\" >> .gitignore\n",
    "rm requirements.txt\n",
    "echo \"jupyterlab\" >> requirements.txt\n",
    "echo \"pandas\" >> requirements.txt\n",
    "echo \"seaborn\" >> requirements.txt\n",
    "pip install -r requirements.txt\n",
    "pip freeze > requirements.txt\n",
    "mkdir notebooks notebooks/data\n",
    "```\n",
    "\n",
    "\n",
    "3. Levantar servidor de jupyter\n",
    "\n",
    "```bash\n",
    "jupyter lab --port=10001 --no-browser --ip=0.0.0.0 --allow-root --ServerApp.token=\"01artificial\"\n",
    "```"
   ]
  },
  {
   "attachments": {},
   "cell_type": "markdown",
   "metadata": {},
   "source": [
    "Se puede trabajar con venv de la librería estandar de Python para crear entornos virtuales\n",
    "\n",
    "[Virtualenv vs venv](https://virtualenv.pypa.io/en/latest/)\n"
   ]
  },
  {
   "attachments": {},
   "cell_type": "markdown",
   "metadata": {
    "slideshow": {
     "slide_type": "slide"
    }
   },
   "source": [
    "## Uso de Jupyter notebook\n",
    "- Presentaciones, ejercicios, actividades... __todo__ notebooks\n",
    "- Markdown/HTML + codigo en vivo\n",
    "- Markdown = https://www.markdownguide.org/\n",
    "- Facilita la colaboración y la presentación interactiva de código\n",
    "- En la terminal: __jupyter notebook__\n",
    "- Archivos _.ipynb_\n",
    "- Documentación https://jupyter.readthedocs.io/en/latest/"
   ]
  },
  {
   "cell_type": "markdown",
   "metadata": {
    "slideshow": {
     "slide_type": "subslide"
    }
   },
   "source": [
    "## Contenidos\n",
    "\n",
    "#### Introducción a la sintaxis de Python 3"
   ]
  },
  {
   "cell_type": "code",
   "execution_count": null,
   "metadata": {},
   "outputs": [],
   "source": [
    "# Hello world!!\n",
    "a = 503124019814\n",
    "print(f\"el valor {a} para la variable\")"
   ]
  },
  {
   "cell_type": "code",
   "execution_count": null,
   "metadata": {
    "slideshow": {
     "slide_type": "fragment"
    }
   },
   "outputs": [],
   "source": [
    "# funcion para sumar dos elementos\n",
    "def suma(a,b):\n",
    "    return a+b\n",
    "\n",
    "lista = [1,2,3]\n",
    "\n",
    "for i,value in enumerate(lista):\n",
    "    lista[i] = suma(value,10)\n",
    "    \n",
    "print(lista)"
   ]
  },
  {
   "cell_type": "markdown",
   "metadata": {
    "slideshow": {
     "slide_type": "fragment"
    }
   },
   "source": [
    "#### Colecciones\n",
    "\n",
    "#### Uso de librerías fundamentales\n",
    "- NumPy"
   ]
  },
  {
   "cell_type": "code",
   "execution_count": null,
   "metadata": {
    "slideshow": {
     "slide_type": "fragment"
    }
   },
   "outputs": [],
   "source": [
    "import numpy as np\n",
    "\n",
    "random_list = np.random.randint(200,size=(10,2))\n",
    "random_list"
   ]
  },
  {
   "cell_type": "markdown",
   "metadata": {
    "slideshow": {
     "slide_type": "subslide"
    }
   },
   "source": [
    "- pandas"
   ]
  },
  {
   "cell_type": "code",
   "execution_count": null,
   "metadata": {
    "slideshow": {
     "slide_type": "fragment"
    }
   },
   "outputs": [],
   "source": [
    "import pandas as pd\n",
    "\n",
    "frame = pd.DataFrame(random_list)\n",
    "frame"
   ]
  },
  {
   "cell_type": "markdown",
   "metadata": {
    "slideshow": {
     "slide_type": "fragment"
    }
   },
   "source": [
    "- matplotlib & seaborn"
   ]
  },
  {
   "cell_type": "code",
   "execution_count": null,
   "metadata": {
    "slideshow": {
     "slide_type": "fragment"
    }
   },
   "outputs": [],
   "source": [
    "%matplotlib inline\n",
    "import matplotlib.pyplot as plt\n",
    "frame.plot()\n",
    "plt.show()"
   ]
  },
  {
   "cell_type": "markdown",
   "metadata": {
    "slideshow": {
     "slide_type": "subslide"
    }
   },
   "source": [
    "#### Introducción a análisis de datos en Python\n",
    "- Trabajar con strings\n",
    "- Limpieza de datos\n",
    "- Escritura y lectura de datos"
   ]
  },
  {
   "attachments": {},
   "cell_type": "markdown",
   "metadata": {
    "slideshow": {
     "slide_type": "subslide"
    }
   },
   "source": [
    "### Homework Jupyter notebook\n",
    "- Entorno Anaconda + Python + Jupyter Notebook instalado\n",
    "- Creación de notebooks\n",
    "- Creación de tipos de celdas\n",
    " - Markdown para texto e imágenes\n",
    " - Code para código\n",
    "- Revisar los atajos de teclado e interiorizarlos"
   ]
  },
  {
   "cell_type": "markdown",
   "metadata": {
    "slideshow": {
     "slide_type": "slide"
    },
    "tags": []
   },
   "source": [
    "## Gracias"
   ]
  }
 ],
 "metadata": {
  "celltoolbar": "Slideshow",
  "kernelspec": {
   "display_name": "Python 3 (ipykernel)",
   "language": "python",
   "name": "python3"
  },
  "language_info": {
   "codemirror_mode": {
    "name": "ipython",
    "version": 3
   },
   "file_extension": ".py",
   "mimetype": "text/x-python",
   "name": "python",
   "nbconvert_exporter": "python",
   "pygments_lexer": "ipython3",
   "version": "3.10.6"
  },
  "metadata": {
   "interpreter": {
    "hash": "f35a06f707b9576dd6b3ef079e74b1f578cbc33a28427aac1052a70586e6d412"
   }
  }
 },
 "nbformat": 4,
 "nbformat_minor": 4
}
