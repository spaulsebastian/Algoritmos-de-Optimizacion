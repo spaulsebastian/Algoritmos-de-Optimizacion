{
  "cells": [
    {
      "cell_type": "markdown",
      "metadata": {
        "id": "view-in-github",
        "colab_type": "text"
      },
      "source": [
        "<a href=\"https://colab.research.google.com/github/spaulsebastian/Algoritmos-de-Optimizacion/blob/main/Reto1/Algoritmos_R1.ipynb\" target=\"_parent\"><img src=\"https://colab.research.google.com/assets/colab-badge.svg\" alt=\"Open In Colab\"/></a>"
      ]
    },
    {
      "cell_type": "markdown",
      "metadata": {
        "id": "kQn6fbhgtH9I"
      },
      "source": [
        "# Algoritmos de optimización - Reto 1\n",
        "\n",
        "Nombre:PAUL SEBASTIAN SAGUAY PUENTE <br>\n",
        "Github:https://github.com/spaulsebastian/Algoritmos-de-Optimizacion/blob/main/Reto1/Algoritmos_R1.ipynb <br>"
      ]
    },
    {
      "cell_type": "markdown",
      "metadata": {
        "id": "_t62Ge7ZuKnC"
      },
      "source": [
        "## Torres de Hanoi con Divide y vencerás\n",
        "\n",
        "Resuelve el problema de las [Torres de Hanoi](https://es.wikipedia.org/wiki/Torres_de_Han%C3%B3i) para un número arbitrario de fichas utilizando la técnica de divide y vencerás."
      ]
    },
    {
      "cell_type": "code",
      "execution_count": 3,
      "metadata": {
        "colab": {
          "base_uri": "https://localhost:8080/"
        },
        "id": "i32G0CUQvauE",
        "outputId": "310c36f8-251c-4686-d98a-d13937f02502"
      },
      "outputs": [
        {
          "output_type": "stream",
          "name": "stdout",
          "text": [
            "Ingrese el número de fichas: 2\n",
            "Mueve el disco desde Torre A hasta Torre B\n",
            "Mueve el disco desde Torre A hasta Torre C\n",
            "Mueve el disco desde Torre B hasta Torre C\n"
          ]
        }
      ],
      "source": [
        "# Torres de Hanoi\n",
        "\n",
        "def hanoi(n, origen, auxiliar, destino):\n",
        "    # Caso base: Si solo hay un disco, lo movemos directamente de origen a destino\n",
        "    if n == 1:\n",
        "        print(\"Mueve el disco desde\", origen, \"hasta\", destino)\n",
        "    else:\n",
        "        # Movemos n-1 discos de la torre origen a la torre auxiliar, usando la torre destino como auxiliar\n",
        "        hanoi(n-1, origen, destino, auxiliar)\n",
        "        # Movemos el disco restante de la torre origen a la torre destino\n",
        "        print(\"Mueve el disco desde\", origen, \"hasta\", destino)\n",
        "        # Movemos los n-1 discos que habíamos movido a la torre auxiliar, ahora de la torre auxiliar a la torre destino,\n",
        "        # usando la torre origen como auxiliar\n",
        "        hanoi(n-1, auxiliar, origen, destino)\n",
        "\n",
        "# Ejemplo de uso\n",
        "num_fichas = int(input(\"Ingrese el número de fichas: \"))\n",
        "hanoi(num_fichas, 'Torre A', 'Torre B', 'Torre C')"
      ]
    },
    {
      "cell_type": "markdown",
      "metadata": {
        "id": "0IwY4QaczD1D"
      },
      "source": [
        "## Sucesión de Fibonacci\n",
        "\n",
        "Cálcula el n-ésimo término de la [Sucesión de Fibonacci](https://es.wikipedia.org/wiki/Sucesi%C3%B3n_de_Fibonacci) mediante un algoritmo recursivo y otro iterativo. Representa gráficamente cómo crece el tiempo de cómputo en función del número de términos para ambos algoritmos."
      ]
    },
    {
      "cell_type": "code",
      "execution_count": 8,
      "metadata": {
        "id": "74qZZAekiNYR"
      },
      "outputs": [],
      "source": [
        "#Sucesión_de_Fibonacci\n",
        "#RECURSIVO\n",
        "def fibonacci_recursivo(n):\n",
        "    if n <= 1:  # Si n es 0 o 1, el resultado es n\n",
        "        return n\n",
        "    else:\n",
        "        # Llamamos recursivamente a la función para calcular los dos términos anteriores y los sumamos\n",
        "        return fibonacci_recursivo(n-1) + fibonacci_recursivo(n-2)\n",
        "\n",
        "\n",
        "\n"
      ]
    },
    {
      "cell_type": "code",
      "source": [
        "#Sucesión_de_Fibonacci\n",
        "#ITERATIVO\n",
        "def fibonacci_iterativo(n):\n",
        "    if n <= 1:  # Si n es 0 o 1, el resultado es n\n",
        "        return n\n",
        "    else:\n",
        "        a, b = 0, 1  # Inicializamos los dos primeros términos de Fibonacci\n",
        "        for _ in range(2, n + 1):  # Iteramos desde el tercer término hasta el n-ésimo término\n",
        "            a, b = b, a + b  # Calculamos el siguiente término sumando los dos términos anteriores\n",
        "        return b  # Devolvemos el n-ésimo término de Fibonacci\n",
        "\n"
      ],
      "metadata": {
        "id": "8-LceyTd6CHd"
      },
      "execution_count": 9,
      "outputs": []
    },
    {
      "cell_type": "code",
      "source": [
        "import time  # Importamos la biblioteca time para medir el tiempo de ejecución\n",
        "import matplotlib.pyplot as plt  # Importamos la biblioteca matplotlib para graficar\n",
        "\n",
        "# Definimos la función para calcular el término n-ésimo de Fibonacci de forma recursiva\n",
        "def fibonacci_recursivo(n):\n",
        "    if n <= 1:  # Caso base: si n es 0 o 1, el resultado es n\n",
        "        return n\n",
        "    else:\n",
        "        # Llamamos recursivamente a la función para calcular los términos anteriores y sumarlos\n",
        "        return fibonacci_recursivo(n-1) + fibonacci_recursivo(n-2)\n",
        "\n",
        "# Definimos la función para calcular el término n-ésimo de Fibonacci de forma iterativa\n",
        "def fibonacci_iterativo(n):\n",
        "    if n <= 1:  # Caso base: si n es 0 o 1, el resultado es n\n",
        "        return n\n",
        "    else:\n",
        "        # Inicializamos las variables para los dos términos iniciales de Fibonacci\n",
        "        a, b = 0, 1\n",
        "        # Iteramos para calcular los términos sucesivos de Fibonacci\n",
        "        for _ in range(2, n + 1):\n",
        "            a, b = b, a + b\n",
        "        return b\n",
        "\n",
        "# Función para medir el tiempo de ejecución de un algoritmo para un valor de n dado\n",
        "def tiempo_ejecucion(algoritmo, n):\n",
        "    inicio = time.time()  # Registramos el tiempo de inicio\n",
        "    algoritmo(n)  # Ejecutamos el algoritmo\n",
        "    fin = time.time()  # Registramos el tiempo de finalización\n",
        "    return fin - inicio  # Devolvemos el tiempo transcurrido\n",
        "\n",
        "# Generamos una lista de valores de n para probar\n",
        "n_values = range(1, 35)  # Probaremos hasta n = 34 debido a limitaciones de tiempo y recursos\n",
        "\n",
        "# Calculamos los tiempos de ejecución para el algoritmo recursivo y el algoritmo iterativo\n",
        "tiempos_recursivos = [tiempo_ejecucion(fibonacci_recursivo, n) for n in n_values]\n",
        "tiempos_iterativos = [tiempo_ejecucion(fibonacci_iterativo, n) for n in n_values]\n",
        "\n",
        "# Graficamos los resultados\n",
        "plt.figure(figsize=(10, 6))\n",
        "plt.plot(n_values, tiempos_recursivos, label='Recursivo', color='blue')  # Graficamos los tiempos para el algoritmo recursivo\n",
        "plt.plot(n_values, tiempos_iterativos, label='Iterativo', color='red')  # Graficamos los tiempos para el algoritmo iterativo\n",
        "plt.xlabel('Valor de n')  # Etiqueta del eje x\n",
        "plt.ylabel('Tiempo de Ejecución (segundos)')  # Etiqueta del eje y\n",
        "plt.title('Tiempo de Ejecución de Fibonacci en función de n')  # Título de la gráfica\n",
        "plt.legend()  # Mostramos la leyenda\n",
        "plt.grid(True)  # Activamos la cuadrícula en la gráfica\n",
        "plt.show()  # Mostramos la gráfica\n",
        "\n"
      ],
      "metadata": {
        "colab": {
          "base_uri": "https://localhost:8080/",
          "height": 565
        },
        "id": "SfIrQ7cB6adV",
        "outputId": "b5e926a3-be79-4a78-a5b0-d28f2b91838b"
      },
      "execution_count": 10,
      "outputs": [
        {
          "output_type": "display_data",
          "data": {
            "text/plain": [
              "<Figure size 1000x600 with 1 Axes>"
            ],
            "image/png": "[encoded data removed]"
          },
          "metadata": {}
        }
      ]
    },
    {
      "cell_type": "markdown",
      "metadata": {
        "id": "RgT5XJsZ429L"
      },
      "source": [
        "## Devolución de cambio por técnica voraz\n",
        "\n",
        "Resuelve el [Problema del Cambio de Moneda](https://es.wikipedia.org/wiki/Problema_de_cambio_de_monedas) utilizando una técnica voraz."
      ]
    },
    {
      "cell_type": "code",
      "execution_count": 13,
      "metadata": {
        "colab": {
          "base_uri": "https://localhost:8080/"
        },
        "id": "uJtftBLU4-ap",
        "outputId": "9ac551f1-293b-4f91-8ea7-39053a4e681a"
      },
      "outputs": [
        {
          "output_type": "stream",
          "name": "stdout",
          "text": [
            "Cantidad de denominaciones: 3\n",
            "Cambio: [50, 20, 5]\n"
          ]
        }
      ],
      "source": [
        "# Problema del cambio de moneda\n",
        "\n",
        "def cambio_de_moneda(denominaciones, cantidad):\n",
        "    denominaciones.sort(reverse=True)  # Ordenamos las denominaciones de mayor a menor valor\n",
        "    num_denominaciones = 0\n",
        "    cambio = []\n",
        "\n",
        "    for denominacion in denominaciones:\n",
        "        while cantidad >= denominacion:  # Mientras la cantidad sea mayor o igual al valor de la denominación\n",
        "            cantidad -= denominacion  # Restamos el valor de la denominación a la cantidad total\n",
        "            cambio.append(denominacion)  # Agregamos la denominación al cambio\n",
        "            num_denominaciones += 1  # Incrementamos el contador de denominaciones\n",
        "\n",
        "    return cambio, num_denominaciones\n",
        "\n",
        "# Denominaciones de monedas y cantidad a cambiar\n",
        "denominaciones = [1, 2, 5, 10, 20, 50, 100]\n",
        "cantidad_a_cambiar = 75\n",
        "\n",
        "# Calculamos el cambio de moneda\n",
        "cambio, num_denominaciones = cambio_de_moneda(denominaciones, cantidad_a_cambiar)\n",
        "\n",
        "# Mostramos el resultado\n",
        "print(\"Cantidad de denominaciones:\", num_denominaciones)\n",
        "print(\"Cambio:\", cambio)"
      ]
    },
    {
      "cell_type": "markdown",
      "metadata": {
        "id": "g8M9GTvy_Fa3"
      },
      "source": [
        "## N-Reinas por técnica de vuelta atrás\n",
        "Resuelve el [Problema de las N-Reinas](https://es.wikipedia.org/wiki/Problema_de_las_ocho_reinas) en un tablero de dimensión N mediante la técnica de la vuelta atrás (backtraking)."
      ]
    },
    {
      "cell_type": "code",
      "execution_count": 15,
      "metadata": {
        "id": "FqOPyCmv_K65",
        "colab": {
          "base_uri": "https://localhost:8080/"
        },
        "outputId": "7e5df7d7-3e58-4468-a53c-73e8fe171e02"
      },
      "outputs": [
        {
          "output_type": "stream",
          "name": "stdout",
          "text": [
            "[0, 1, 0, 0]\n",
            "[0, 0, 0, 1]\n",
            "[1, 0, 0, 0]\n",
            "[0, 0, 1, 0]\n"
          ]
        },
        {
          "output_type": "execute_result",
          "data": {
            "text/plain": [
              "True"
            ]
          },
          "metadata": {},
          "execution_count": 15
        }
      ],
      "source": [
        "# Problema de las N-Reinas\n",
        "def es_seguro(tablero, fila, columna, N):\n",
        "    # Verifica si hay una reina en la misma columna en las filas anteriores\n",
        "    for i in range(fila):\n",
        "        if tablero[i][columna] == 1:\n",
        "            return False\n",
        "\n",
        "    # Verifica la diagonal superior izquierda\n",
        "    for i, j in zip(range(fila, -1, -1), range(columna, -1, -1)):\n",
        "        if tablero[i][j] == 1:\n",
        "            return False\n",
        "\n",
        "    # Verifica la diagonal superior derecha\n",
        "    for i, j in zip(range(fila, -1, -1), range(columna, N)):\n",
        "        if tablero[i][j] == 1:\n",
        "            return False\n",
        "\n",
        "    return True\n",
        "\n",
        "def resolver_n_reinas_util(tablero, fila, N):\n",
        "    # Caso base: si todas las reinas están colocadas, devuelve verdadero\n",
        "    if fila >= N:\n",
        "        return True\n",
        "\n",
        "    # Coloca esta reina en todas las columnas una por una y verifica si es seguro\n",
        "    for col in range(N):\n",
        "        if es_seguro(tablero, fila, col, N):\n",
        "            tablero[fila][col] = 1  # Coloca la reina en el tablero\n",
        "\n",
        "            # Recursivamente coloca las reinas restantes\n",
        "            if resolver_n_reinas_util(tablero, fila + 1, N):\n",
        "                return True\n",
        "\n",
        "            # Si colocar la reina en tablero[fila][i] lleva a una solución, entonces devuelve verdadero\n",
        "            tablero[fila][col] = 0  # Si no lleva a una solución, entonces deshace el cambio (backtracking)\n",
        "\n",
        "    # Si la reina no puede ser colocada en ninguna columna en esta fila, devuelve falso\n",
        "    return False\n",
        "\n",
        "def resolver_n_reinas(N):\n",
        "    # Inicializa el tablero\n",
        "    tablero = [[0] * N for _ in range(N)]\n",
        "\n",
        "    # Utiliza la función auxiliar para resolver el problema\n",
        "    if not resolver_n_reinas_util(tablero, 0, N):\n",
        "        print(\"No hay solución para el tablero de\", N, \"x\", N)\n",
        "        return False\n",
        "\n",
        "    # Imprime la solución\n",
        "    for fila in tablero:\n",
        "        print(fila)\n",
        "    return True\n",
        "\n",
        "# Ejemplo de uso\n",
        "dimension_tablero = 4\n",
        "resolver_n_reinas(dimension_tablero)"
      ]
    }
  ],
  "metadata": {
    "colab": {
      "provenance": [],
      "toc_visible": true,
      "include_colab_link": true
    },
    "kernelspec": {
      "display_name": "Python 3 (ipykernel)",
      "language": "python",
      "name": "python3"
    },
    "language_info": {
      "codemirror_mode": {
        "name": "ipython",
        "version": 3
      },
      "file_extension": ".py",
      "mimetype": "text/x-python",
      "name": "python",
      "nbconvert_exporter": "python",
      "pygments_lexer": "ipython3",
      "version": "3.11.5"
    }
  },
  "nbformat": 4,
  "nbformat_minor": 0
}