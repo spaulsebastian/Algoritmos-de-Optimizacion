{
  "nbformat": 4,
  "nbformat_minor": 0,
  "metadata": {
    "colab": {
      "provenance": [],
      "include_colab_link": true
    },
    "kernelspec": {
      "name": "python3",
      "display_name": "Python 3"
    }
  },
  "cells": [
    {
      "cell_type": "markdown",
      "metadata": {
        "id": "view-in-github",
        "colab_type": "text"
      },
      "source": [
        "<a href=\"https://colab.research.google.com/github/spaulsebastian/Algoritmos-de-Optimizacion/blob/main/TrabajoPractico/Seminario_Algoritmos.ipynb\" target=\"_parent\"><img src=\"https://colab.research.google.com/assets/colab-badge.svg\" alt=\"Open In Colab\"/></a>"
      ]
    },
    {
      "cell_type": "markdown",
      "metadata": {
        "id": "hVbXYX-RfPWh"
      },
      "source": [
        "# Algoritmos de optimización - Seminario<br>\n",
        "Nombre y Apellidos:   PAUL SEBASTIAN SAGUAY PUENTE<br>\n",
        "Url: https://github.com/spaulsebastian/Algoritmos-de-Optimizacion/blob/main/TrabajoPractico/Seminario_Algoritmos.ipynb<br>\n",
        "Problema:\n",
        "> 1. Sesiones de doblaje <br>\n",
        ">2. Organizar los horarios de partidos de La Liga<br>\n",
        ">3. Combinar cifras y operaciones\n",
        "\n",
        "Descripción del problema:(copiar enunciado)\n",
        "\n",
        "SESIONES DE DOBLAJE\n",
        "\n",
        "(*) La respuesta es obligatoria\n",
        "\n",
        "\n",
        "\n",
        "\n",
        "\n",
        "                                        "
      ]
    },
    {
      "cell_type": "markdown",
      "source": [
        "Se precisa coordinar el doblaje de una película. Los actores del doblaje deben coincidir en las\n",
        "tomas en las que sus personajes aparecen juntos en las diferentes tomas. Los actores de\n",
        "doblaje cobran toda la misma cantidad por cada día que deben desplazarse hasta el estudio de\n",
        "grabación independientemente del número de tomas que se graben. No es posible grabar más\n",
        "de 6 tomas por día. El objetivo es planificar las sesiones por día de manera que el gasto por los\n",
        "servicios de los actores de doblaje sea el menor posible."
      ],
      "metadata": {
        "id": "X0zXaV1VpL0v"
      }
    },
    {
      "cell_type": "markdown",
      "source": [
        "Número de actores: 10\n",
        "Número de tomas : 30"
      ],
      "metadata": {
        "id": "dfSwEKJOwDjw"
      }
    },
    {
      "cell_type": "code",
      "source": [
        "def planificar_doblaje(tomas):\n",
        "    # Crear un diccionario para agrupar las tomas que comparten actores\n",
        "    grupos_actores = {}\n",
        "\n",
        "    for i, toma in enumerate(tomas):\n",
        "        # Crear una clave única para cada grupo de actores en la toma\n",
        "        clave_grupo = tuple(sorted([j for j, actor in enumerate(toma) if actor == 1]))\n",
        "\n",
        "        if clave_grupo not in grupos_actores:\n",
        "            grupos_actores[clave_grupo] = []\n",
        "        grupos_actores[clave_grupo].append(i)\n",
        "\n",
        "    # Ordenar los grupos de tomas en función de su tamaño (cantidad de actores)\n",
        "    grupos_ordenados = sorted(grupos_actores.values(), key=len, reverse=True)\n",
        "\n",
        "    # Planificar las sesiones de grabación\n",
        "    dias_grabacion = []\n",
        "    for grupo in grupos_ordenados:\n",
        "        # Agrupar las tomas del grupo en diferentes días\n",
        "        for i in range(0, len(grupo), 6):\n",
        "            dias_grabacion.append([tomas[j] for j in grupo[i:i+6]])\n",
        "\n",
        "    return dias_grabacion\n",
        "\n",
        "# Ejemplo de tomas proporcionadas\n",
        "tomas = [\n",
        "    [1, 1, 1, 1, 1, 0, 0, 0, 0, 0],\n",
        "    [0, 0, 1, 1, 1, 0, 0, 0, 0, 0],\n",
        "    [0, 1, 0, 0, 1, 0, 1, 0, 0, 0],\n",
        "    [1, 1, 0, 0, 0, 0, 1, 1, 0, 0],\n",
        "    [0, 1, 0, 1, 0, 0, 0, 1, 0, 0],\n",
        "    [1, 1, 0, 1, 1, 0, 0, 0, 0, 0],\n",
        "    [1, 1, 0, 1, 1, 0, 0, 0, 0, 0],\n",
        "    [1, 1, 0, 0, 0, 1, 0, 0, 0, 0],\n",
        "    [1, 1, 0, 1, 0, 0, 0, 0, 0, 0],\n",
        "    [1, 1, 0, 0, 0, 1, 0, 0, 1, 0],\n",
        "    [1, 1, 1, 0, 1, 0, 0, 1, 0, 0],\n",
        "    [1, 1, 1, 1, 0, 1, 0, 0, 0, 0],\n",
        "    [1, 0, 0, 1, 1, 0, 0, 0, 0, 0],\n",
        "    [1, 0, 1, 0, 0, 1, 0, 0, 0, 0],\n",
        "    [1, 1, 0, 0, 0, 0, 1, 0, 0, 0],\n",
        "    [0, 0, 0, 1, 0, 0, 0, 0, 0, 1],\n",
        "    [1, 0, 1, 0, 0, 0, 0, 0, 0, 0],\n",
        "    [0, 0, 1, 0, 0, 1, 0, 0, 0, 0],\n",
        "    [1, 0, 1, 0, 0, 0, 0, 0, 0, 0],\n",
        "    [1, 0, 1, 1, 1, 0, 0, 0, 0, 0],\n",
        "    [0, 0, 0, 0, 0, 1, 0, 1, 0, 0],\n",
        "    [1, 1, 1, 1, 0, 0, 0, 0, 0, 0],\n",
        "    [1, 0, 1, 0, 0, 0, 0, 0, 0, 0], #23\n",
        "    [0, 0, 1, 0, 0, 1, 0, 0, 0, 0], #24\n",
        "    [1, 1, 0, 1, 0, 0, 0, 0, 0, 1], #25\n",
        "    [1, 0, 1, 0, 1, 0, 0, 0, 1, 0], #26\n",
        "    [0, 0, 0, 1, 1, 0, 0, 0, 0, 0], #27\n",
        "    [1, 0, 0, 1, 0, 0, 0, 0, 0, 0], #28\n",
        "    [1, 0, 0, 0, 1, 1, 0, 0, 0, 0], #29\n",
        "    [1, 0, 0, 1, 0, 0, 0, 0, 0, 0] #30\n",
        "]\n",
        "\n",
        "# Planificar las sesiones de grabación\n",
        "dias = planificar_doblaje(tomas)\n",
        "\n",
        "# Imprimir la planificación de las sesiones de grabación\n",
        "print(\"Planificación de las sesiones de grabación:\")\n",
        "for i, dia in enumerate(dias, start=1):\n",
        "    print(\"Día\", i, \":\", dia)\n"
      ],
      "metadata": {
        "colab": {
          "base_uri": "https://localhost:8080/"
        },
        "id": "H1k_0PoBjbk_",
        "outputId": "d08a2f58-11f2-47ec-da46-21ada5600a52"
      },
      "execution_count": 1,
      "outputs": [
        {
          "output_type": "stream",
          "name": "stdout",
          "text": [
            "Planificación de las sesiones de grabación:\n",
            "Día 1 : [[1, 0, 1, 0, 0, 0, 0, 0, 0, 0], [1, 0, 1, 0, 0, 0, 0, 0, 0, 0], [1, 0, 1, 0, 0, 0, 0, 0, 0, 0]]\n",
            "Día 2 : [[1, 1, 0, 1, 1, 0, 0, 0, 0, 0], [1, 1, 0, 1, 1, 0, 0, 0, 0, 0]]\n",
            "Día 3 : [[0, 0, 1, 0, 0, 1, 0, 0, 0, 0], [0, 0, 1, 0, 0, 1, 0, 0, 0, 0]]\n",
            "Día 4 : [[1, 0, 0, 1, 0, 0, 0, 0, 0, 0], [1, 0, 0, 1, 0, 0, 0, 0, 0, 0]]\n",
            "Día 5 : [[1, 1, 1, 1, 1, 0, 0, 0, 0, 0]]\n",
            "Día 6 : [[0, 0, 1, 1, 1, 0, 0, 0, 0, 0]]\n",
            "Día 7 : [[0, 1, 0, 0, 1, 0, 1, 0, 0, 0]]\n",
            "Día 8 : [[1, 1, 0, 0, 0, 0, 1, 1, 0, 0]]\n",
            "Día 9 : [[0, 1, 0, 1, 0, 0, 0, 1, 0, 0]]\n",
            "Día 10 : [[1, 1, 0, 0, 0, 1, 0, 0, 0, 0]]\n",
            "Día 11 : [[1, 1, 0, 1, 0, 0, 0, 0, 0, 0]]\n",
            "Día 12 : [[1, 1, 0, 0, 0, 1, 0, 0, 1, 0]]\n",
            "Día 13 : [[1, 1, 1, 0, 1, 0, 0, 1, 0, 0]]\n",
            "Día 14 : [[1, 1, 1, 1, 0, 1, 0, 0, 0, 0]]\n",
            "Día 15 : [[1, 0, 0, 1, 1, 0, 0, 0, 0, 0]]\n",
            "Día 16 : [[1, 0, 1, 0, 0, 1, 0, 0, 0, 0]]\n",
            "Día 17 : [[1, 1, 0, 0, 0, 0, 1, 0, 0, 0]]\n",
            "Día 18 : [[0, 0, 0, 1, 0, 0, 0, 0, 0, 1]]\n",
            "Día 19 : [[1, 0, 1, 1, 1, 0, 0, 0, 0, 0]]\n",
            "Día 20 : [[0, 0, 0, 0, 0, 1, 0, 1, 0, 0]]\n",
            "Día 21 : [[1, 1, 1, 1, 0, 0, 0, 0, 0, 0]]\n",
            "Día 22 : [[1, 1, 0, 1, 0, 0, 0, 0, 0, 1]]\n",
            "Día 23 : [[1, 0, 1, 0, 1, 0, 0, 0, 1, 0]]\n",
            "Día 24 : [[0, 0, 0, 1, 1, 0, 0, 0, 0, 0]]\n",
            "Día 25 : [[1, 0, 0, 0, 1, 1, 0, 0, 0, 0]]\n"
          ]
        }
      ]
    },
    {
      "cell_type": "markdown",
      "source": [
        "---\n",
        "---"
      ],
      "metadata": {
        "id": "Ea4xLU-zcdJR"
      }
    },
    {
      "cell_type": "markdown",
      "metadata": {
        "id": "3_-exlrTgLd-"
      },
      "source": [
        "(*)¿Cuantas posibilidades hay sin tener en cuenta las restricciones?<br>\n",
        "\n",
        "\n",
        "\n",
        "¿Cuantas posibilidades hay teniendo en cuenta todas las restricciones.\n",
        "\n",
        "\n"
      ]
    },
    {
      "cell_type": "markdown",
      "source": [
        "Respuesta"
      ],
      "metadata": {
        "id": "VgI475ZEy3J0"
      }
    },
    {
      "cell_type": "markdown",
      "source": [
        "###1. <b>¿Cuántas posibilidades hay sin tener en cuenta las restricciones?</b><br>\n",
        "<p style=\"text-align: justify;\">Para calcular el número de posibilidades sin tener en cuenta las restricciones, podemos usar la siguiente fórmula:\n",
        "\n",
        "Posibilidades = n! / (m! * k!)\n",
        "\n",
        "Donde:\n",
        "\n",
        "n es el número total de tomas (30 en este caso).\n",
        "m es el número de actores que participan en una toma (10 en este caso).\n",
        "k es el número de tomas que se graban en un día (6 en este caso).\n",
        "Sustituyendo los valores en la fórmula, obtenemos:\n",
        "\n",
        "Posibilidades = 30! / (10! * 6!) = 1.225.141.414.343.632.000</p>\n",
        "<br>\n",
        "###2. <b>¿Cuántas posibilidades hay teniendo en cuenta todas las restricciones?</b><br>\n",
        "<p style=\"text-align: justify;\">Podemos utilizar un enfoque heurístico para encontrar una solución aproximada al problema. Una estrategia podría ser la siguiente:\n",
        "\n",
        "- Agrupar las tomas por actores: Se pueden crear 2^10 (1024) grupos de tomas, donde cada grupo contiene todas las tomas que comparten al menos un actor.\n",
        "- Ordenar los grupos por tamaño: El número de formas de ordenar los grupos por tamaño es n! (factorial de n), donde n es el número de grupos.\n",
        "- Combinar las tomas dentro de cada grupo: El número de formas de combinar las tomas dentro de cada grupo depende del tamaño del grupo.<br><br>\n",
        "\n",
        "Para un grupo de tamaño k, hay k! formas de combinar las tomas.<br><br>\n",
        "\n",
        "Sumando el número de posibilidades para todos los grupos, obtenemos una estimación del número total de posibilidades:\n",
        "\n",
        "Posibilidades ≈ 2^10 * n! * Σ(k! for k in range(1, 11))\n",
        "\n",
        "Sustituyendo los valores, obtenemos:\n",
        "\n",
        "Posibilidades ≈ 1.024 * 30! * (1! + 2! + 3! + ... + 10!)\n",
        "\n",
        "Este número es una estimación inferior del número real de posibilidades, ya que no toma en cuenta las restricciones de que no se pueden grabar más de 6 tomas por día.\n",
        "\n",
        "El número real de posibilidades es probable que sea mayor que esta estimación, pero aún así es significativamente menor que el número de posibilidades sin restricciones.</p>\n"
      ],
      "metadata": {
        "id": "K7HVQuvoHIGl"
      }
    },
    {
      "cell_type": "markdown",
      "source": [
        "---\n",
        "---"
      ],
      "metadata": {
        "id": "Fj5NRV8ycggG"
      }
    },
    {
      "cell_type": "markdown",
      "metadata": {
        "id": "dzynfVJahHoY"
      },
      "source": [
        "Modelo para el espacio de soluciones<br>\n",
        "(*) ¿Cual es la estructura de datos que mejor se adapta al problema? Argumentalo.(Es posible que hayas elegido una al principio y veas la necesidad de cambiar, arguentalo)\n"
      ]
    },
    {
      "cell_type": "markdown",
      "metadata": {
        "id": "xFIJrOwKi2Ti"
      },
      "source": [
        "Respuesta"
      ]
    },
    {
      "cell_type": "markdown",
      "source": [
        "<p style=\"text-align: justify;\">En un inicio pensé en usar la tecnica de backtracking y finalmente use un metodo heurístico.</p>\n",
        "\n",
        "<b>Argumentación:</b>\n",
        "\n",
        "- Representación del estado actual: El diccionario se puede utilizar para representar el estado actual de la solución. Las claves del diccionario serían los índices de las tomas y los valores serían los conjuntos de actores que participan en cada toma\n",
        "\n",
        "- Eficiencia en la búsqueda: La estructura de diccionario permite buscar de manera rápida y eficiente si un actor ya está en una toma o si dos tomas comparten actores. Esto es fundamental para la eficiencia del algoritmo de vuelta atrás.\n",
        "\n",
        "- Facilidad de actualización: El diccionario se puede actualizar fácilmente para agregar nuevas tomas o modificar la información de las tomas existentes.</p>\n",
        "\n",
        "- Flexibilidad: La estructura de diccionario es flexible y se puede adaptar a diferentes necesidades del problema.\n",
        "\n",
        "<b>Cambio:</b>\n",
        "\n",
        "En un principio, podría considerar una lista de listas como una alternativa viable. Sin embargo, esta estructura presenta algunas desventajas:\n",
        "\n",
        "- Menor eficiencia en la búsqueda: Buscar si un actor ya está en una toma o si dos tomas comparten actores sería más complejo que con un diccionario.\n",
        "- Dificultad en la actualización: Modificar la información de las tomas o agregar nuevas tomas sería más complejo que con un diccionario.\n",
        "- Menor flexibilidad: La estructura de lista de listas es menos flexible que un diccionario y se adapta con mayor dificultad a diferentes necesidades del problema.\n",
        "\n",
        "<b>Razones para usar un método heurístico:</b>\n",
        "\n",
        "En este caso, se ha optado por utilizar un método heurístico en lugar de un algoritmo de vuelta atrás debido a las siguientes razones:\n",
        "\n",
        "- Eficiencia: El algoritmo de vuelta atrás puede ser ineficiente para este problema, especialmente si no se utilizan podas.\n",
        "- Memoria: El algoritmo de vuelta atrás puede requerir mucha memoria para almacenar el árbol de posibilidades.\n",
        "- Simplicidad: El método heurístico utilizado es relativamente simple de implementar y eficiente en términos de tiempo y memoria.<br>\n",
        "\n",
        "<b>Conclusión:</b>\n",
        "\n",
        "<b><p style=\"text-align: justify;\">La estructura de datos que mejor se adapta a un algoritmo de vuelta atrás para resolver el problema de planificar las sesiones de doblaje es un diccionario de conjuntos. Sin embargo, en este caso se ha optado por utilizar un método heurístico debido a razones de eficiencia, memoria y simplicidad.</p></b>"
      ],
      "metadata": {
        "id": "3fYwpvBES6xc"
      }
    },
    {
      "cell_type": "markdown",
      "source": [
        "---\n",
        "---"
      ],
      "metadata": {
        "id": "ESd_8FbWc25b"
      }
    },
    {
      "cell_type": "markdown",
      "metadata": {
        "id": "7Z9U2W7bi-XS"
      },
      "source": [
        "Según el modelo para el espacio de soluciones<br>\n",
        "(*)¿Cual es la función objetivo?\n",
        "\n",
        "(*)¿Es un problema de maximización o minimización?"
      ]
    },
    {
      "cell_type": "markdown",
      "metadata": {
        "id": "hBalWLM7j1_d"
      },
      "source": [
        "Respuesta"
      ]
    },
    {
      "cell_type": "markdown",
      "source": [
        "<p style=\"text-align: justify;\">En este caso, la función objetivo sería minimizar el costo total de las sesiones de grabación, donde el costo está determinado por la cantidad de días utilizados para grabar todas las tomas.</p>\n",
        "\n",
        "<p style=\"text-align: justify;\">Es un problema de minimización, ya que buscamos reducir el costo total de las sesiones de grabación.</p>"
      ],
      "metadata": {
        "id": "bGA6UKMedsII"
      }
    },
    {
      "cell_type": "markdown",
      "source": [
        "---\n",
        "---"
      ],
      "metadata": {
        "id": "MC-lHifLd5A-"
      }
    },
    {
      "cell_type": "markdown",
      "metadata": {
        "id": "rlnTYgY1j6I2"
      },
      "source": [
        "Diseña un algoritmo para resolver el problema por fuerza bruta"
      ]
    },
    {
      "cell_type": "markdown",
      "metadata": {
        "id": "70rDgxYXkC8r"
      },
      "source": [
        "Respuesta"
      ]
    },
    {
      "cell_type": "code",
      "metadata": {
        "id": "CJb5sQ0qkENy",
        "colab": {
          "base_uri": "https://localhost:8080/"
        },
        "outputId": "822e2784-197b-4a8c-ae80-d57c6542d391"
      },
      "source": [
        "from itertools import combinations  # Importa la función combinations del módulo itertools\n",
        "\n",
        "def calcular_costo(combinacion, tomas):\n",
        "  \"\"\"\n",
        "  Calcula el costo total de una combinación de tomas.\n",
        "\n",
        "  Args:\n",
        "    combinacion: Una lista que representa una combinación de tomas.\n",
        "    tomas: Una lista de listas que representa las tomas.\n",
        "\n",
        "  Returns:\n",
        "    El costo total de la combinación.\n",
        "  \"\"\"\n",
        "  costo = 0  # Inicializa el costo en 0\n",
        "  for toma in combinacion:  # Itera sobre cada toma en la combinación\n",
        "    costo += sum(tomas[toma])  # Suma el costo de la toma al costo total\n",
        "  return costo  # Retorna el costo total\n",
        "\n",
        "def planificar_doblaje_fuerza_bruta(tomas, max_sesion_size):\n",
        "  \"\"\"\n",
        "  Planifica las sesiones de doblaje utilizando un algoritmo de fuerza bruta.\n",
        "\n",
        "  Args:\n",
        "    tomas: Una lista de listas que representa las tomas.\n",
        "    max_sesion_size: El tamaño máximo de una sesión de grabación.\n",
        "\n",
        "  Returns:\n",
        "    Una lista de listas que representa la planificación óptima de las sesiones de grabación.\n",
        "  \"\"\"\n",
        "  planificacion_optima = []  # Inicializa la lista de la planificación óptima\n",
        "  mejor_costo = float('inf')  # Inicializa el mejor costo con infinito\n",
        "\n",
        "  for grupo_tomas in tomas:  # Itera sobre cada grupo de tomas\n",
        "    for combinacion in combinations(grupo_tomas, max_sesion_size):  # Genera todas las combinaciones posibles de tamaño max_sesion_size\n",
        "      costo = calcular_costo(combinacion, tomas)  # Calcula el costo de la combinación\n",
        "      if costo < mejor_costo:  # Si el costo es menor al mejor costo actual\n",
        "        mejor_costo = costo  # Actualiza el mejor costo\n",
        "        planificacion_optima = [list(combinacion)]  # Actualiza la planificación óptima con la nueva combinación\n",
        "\n",
        "  for grupo_tomas in tomas:  # Itera sobre cada grupo de tomas nuevamente\n",
        "    for i in range(len(grupo_tomas) // max_sesion_size):  # Divide el grupo en sesiones del tamaño máximo\n",
        "      planificacion_optima.append(list(grupo_tomas[i*max_sesion_size:(i+1)*max_sesion_size]))  # Agrega la sesión a la planificación óptima\n",
        "\n",
        "  return planificacion_optima  # Retorna la planificación óptima\n",
        "\n",
        "# Ejemplo de tomas\n",
        "tomas = [\n",
        "    [1, 1, 1, 1, 1, 0, 0, 0, 0, 0],\n",
        "    [0, 0, 1, 1, 1, 0, 0, 0, 0, 0],\n",
        "    [0, 1, 0, 0, 1, 0, 1, 0, 0, 0],\n",
        "    [1, 1, 0, 0, 0, 0, 1, 1, 0, 0],\n",
        "    [0, 1, 0, 1, 0, 0, 0, 1, 0, 0],\n",
        "    [1, 1, 0, 1, 1, 0, 0, 0, 0, 0],\n",
        "    [1, 1, 0, 1, 1, 0, 0, 0, 0, 0],\n",
        "    [1, 1, 0, 0, 0, 1, 0, 0, 0, 0],\n",
        "    [1, 1, 0, 1, 0, 0, 0, 0, 0, 0],\n",
        "    [1, 1, 0, 0, 0, 1, 0, 0, 1, 0],\n",
        "    [1, 1, 1, 0, 1, 0, 0, 1, 0, 0],\n",
        "    [1, 1, 1, 1, 0, 1, 0, 0, 0, 0],\n",
        "    [1, 0, 0, 1, 1, 0, 0, 0, 0, 0],\n",
        "    [1, 0, 1, 0, 0, 1, 0, 0, 0, 0],\n",
        "    [1, 1, 0, 0, 0, 0, 1, 0, 0, 0],\n",
        "    [0, 0, 0, 1, 0, 0, 0, 0, 0, 1],\n",
        "    [1, 0, 1, 0, 0, 0, 0, 0, 0, 0],\n",
        "    [0, 0, 1, 0, 0, 1, 0, 0, 0, 0],\n",
        "    [1, 0, 1, 0, 0, 0, 0, 0, 0, 0],\n",
        "    [1, 0, 1, 1, 1, 0, 0, 0, 0, 0],\n",
        "    [0, 0, 0, 0, 0, 1, 0, 1, 0, 0],\n",
        "    [1, 1, 1, 1, 0, 0, 0, 0, 0, 0],\n",
        "    [1, 0, 1, 0, 0, 0, 0, 0, 0, 0], #23\n",
        "    [0, 0, 1, 0, 0, 1, 0, 0, 0, 0], #24\n",
        "    [1, 1, 0, 1, 0, 0, 0, 0, 0, 1], #25\n",
        "    [1, 0, 1, 0, 1, 0, 0, 0, 1, 0], #26\n",
        "    [0, 0, 0, 1, 1, 0, 0, 0, 0, 0], #27\n",
        "    [1, 0, 0, 1, 0, 0, 0, 0, 0, 0], #28\n",
        "    [1, 0, 0, 0, 1, 1, 0, 0, 0, 0], #29\n",
        "    [1, 0, 0, 1, 0, 0, 0, 0, 0, 0] #30\n",
        "]\n",
        "\n",
        "# Planificar las sesiones de grabación\n",
        "planificacion = planificar_doblaje_fuerza_bruta(tomas, 6)  # Llama a la función de planificación de doblaje con el tamaño máximo de sesión especificado\n",
        "\n",
        "# Imprimir la planificación de las sesiones de grabación\n",
        "print(\"Planificación de las sesiones de grabación:\")\n",
        "for i, dia in enumerate(planificacion, start=1):  # Itera sobre cada día en la planificación\n",
        "  print(\"Día\", i, \":\", dia)  # Imprime el día y la sesión correspondiente\n"
      ],
      "execution_count": 8,
      "outputs": [
        {
          "output_type": "stream",
          "name": "stdout",
          "text": [
            "Planificación de las sesiones de grabación:\n",
            "Día 1 : [1, 1, 1, 1, 1, 0]\n",
            "Día 2 : [1, 1, 1, 1, 1, 0]\n",
            "Día 3 : [0, 0, 1, 1, 1, 0]\n",
            "Día 4 : [0, 1, 0, 0, 1, 0]\n",
            "Día 5 : [1, 1, 0, 0, 0, 0]\n",
            "Día 6 : [0, 1, 0, 1, 0, 0]\n",
            "Día 7 : [1, 1, 0, 1, 1, 0]\n",
            "Día 8 : [1, 1, 0, 1, 1, 0]\n",
            "Día 9 : [1, 1, 0, 0, 0, 1]\n",
            "Día 10 : [1, 1, 0, 1, 0, 0]\n",
            "Día 11 : [1, 1, 0, 0, 0, 1]\n",
            "Día 12 : [1, 1, 1, 0, 1, 0]\n",
            "Día 13 : [1, 1, 1, 1, 0, 1]\n",
            "Día 14 : [1, 0, 0, 1, 1, 0]\n",
            "Día 15 : [1, 0, 1, 0, 0, 1]\n",
            "Día 16 : [1, 1, 0, 0, 0, 0]\n",
            "Día 17 : [0, 0, 0, 1, 0, 0]\n",
            "Día 18 : [1, 0, 1, 0, 0, 0]\n",
            "Día 19 : [0, 0, 1, 0, 0, 1]\n",
            "Día 20 : [1, 0, 1, 0, 0, 0]\n",
            "Día 21 : [1, 0, 1, 1, 1, 0]\n",
            "Día 22 : [0, 0, 0, 0, 0, 1]\n",
            "Día 23 : [1, 1, 1, 1, 0, 0]\n",
            "Día 24 : [1, 0, 1, 0, 0, 0]\n",
            "Día 25 : [0, 0, 1, 0, 0, 1]\n",
            "Día 26 : [1, 1, 0, 1, 0, 0]\n",
            "Día 27 : [1, 0, 1, 0, 1, 0]\n",
            "Día 28 : [0, 0, 0, 1, 1, 0]\n",
            "Día 29 : [1, 0, 0, 1, 0, 0]\n",
            "Día 30 : [1, 0, 0, 0, 1, 1]\n",
            "Día 31 : [1, 0, 0, 1, 0, 0]\n"
          ]
        }
      ]
    },
    {
      "cell_type": "markdown",
      "source": [
        "---\n",
        "---"
      ],
      "metadata": {
        "id": "Lg0IY0Z-iWpq"
      }
    },
    {
      "cell_type": "markdown",
      "metadata": {
        "id": "tgrnsC2nkFa8"
      },
      "source": [
        "Calcula la complejidad del algoritmo por fuerza bruta"
      ]
    },
    {
      "cell_type": "markdown",
      "metadata": {
        "id": "9eUd3xwckP68"
      },
      "source": [
        "Respuesta"
      ]
    },
    {
      "cell_type": "markdown",
      "source": [
        "<b>COMPLEJIDAD EXPONENCIAL<b/><br><br>\n",
        "Para evaluar la complejidad del algoritmo de fuerza bruta, es necesario considerar dos aspectos principales: la generación de combinaciones y el cálculo del costo asociado a cada combinación.\n",
        "\n",
        "1. Generación de combinaciones:\n",
        "   - El algoritmo itera sobre cada grupo de tomas.\n",
        "   - Para cada grupo de tomas, se generan todas las combinaciones posibles de tamaño `max_sesion_size` utilizando la función `combinations` de la biblioteca itertools.\n",
        "   - La cantidad total de combinaciones generadas depende de la cantidad de tomas en cada grupo y del tamaño máximo de sesión (`max_sesion_size`).\n",
        "\n",
        "2. Cálculo del costo:\n",
        "   - Para cada combinación generada, se calcula el costo total utilizando la función `calcular_costo`.\n",
        "   - El costo total de una combinación implica sumar los costos individuales de cada toma en la combinación.\n",
        "\n",
        "Dado que se están generando todas las combinaciones posibles y se está calculando el costo para cada una, la complejidad del algoritmo por fuerza bruta depende principalmente de la generación de combinaciones.\n",
        "\n",
        "Suponiendo que tenemos `n` grupos de tomas, cada uno con `m_i` tomas, donde `i` es el índice del grupo, la complejidad del algoritmo por fuerza bruta sería aproximadamente:\n",
        "\n",
        "- Generación de combinaciones:\n",
        "  - Se generan todas las combinaciones posibles de tamaño `max_sesion_size` para cada grupo de tomas.\n",
        "  - Para cada grupo de tomas, hay `C(m_i, max_sesion_size)` combinaciones posibles.\n",
        "  - La cantidad total de combinaciones sería la suma de todas las combinaciones para cada grupo de tomas, es decir, Σ(C(m_i, max_sesion_size)) para i desde 1 hasta n.\n",
        "\n",
        "- Cálculo del costo:\n",
        "  - Para cada combinación generada, se calcula el costo total, lo cual se supone toma tiempo constante, dependiendo del tamaño de las listas de tomas y del tamaño de la combinación.\n",
        "\n",
        "Dado que el factor dominante aquí es la generación de combinaciones, podemos considerar la complejidad del algoritmo como aproximadamente O(C(n, max_sesion_size)), donde `n` es el número de grupos de tomas y `max_sesion_size` es el tamaño máximo de sesión. Esto implica que la complejidad crece de forma exponencial con respecto al número de grupos de tomas y el tamaño máximo de sesión.\n"
      ],
      "metadata": {
        "id": "cfoMhFDHjLx4"
      }
    },
    {
      "cell_type": "markdown",
      "source": [
        "---\n",
        "---"
      ],
      "metadata": {
        "id": "gqZfQNzKj2c1"
      }
    },
    {
      "cell_type": "markdown",
      "metadata": {
        "id": "txbrmLmskReM"
      },
      "source": [
        "(*)Diseña un algoritmo que mejore la complejidad del algortimo por fuerza bruta. Argumenta porque crees que mejora el algoritmo por fuerza bruta"
      ]
    },
    {
      "cell_type": "markdown",
      "metadata": {
        "id": "hLrVwt5QkZPD"
      },
      "source": [
        "Respuesta"
      ]
    },
    {
      "cell_type": "markdown",
      "source": [
        "Este algoritmo basado en programación dinámica mejora significativamente el enfoque de fuerza bruta para resolver el problema de planificación de sesiones de grabación. Aquí hay algunas razones por las cuales es una mejora:\n",
        "\n",
        "1. **Eficiencia computacional:** Mientras que el enfoque de fuerza bruta considera todas las combinaciones posibles de tomas y sesiones, este algoritmo utiliza la técnica de programación dinámica para evitar el recalculo redundante y reducir el tiempo de ejecución.\n",
        "\n",
        "2. **Optimización global:** La programación dinámica busca la solución óptima global al problema, lo que garantiza que la solución final sea la más económica posible en términos de gastos de los actores de doblaje.\n",
        "\n",
        "3. **Complejidad reducida:** Aunque la complejidad de este algoritmo no es la más baja posible, sigue siendo polinomial, lo que significa que su tiempo de ejecución aumenta de manera manejable con el tamaño de la entrada. Por otro lado, el enfoque de fuerza bruta tendría una complejidad exponencial, lo que lo hace impracticable para problemas con un gran número de tomas.\n",
        "\n"
      ],
      "metadata": {
        "id": "QMwDsIXyr_4U"
      }
    },
    {
      "cell_type": "code",
      "source": [
        "def ordenar_por_costo(tomas):\n",
        "    # Función para ordenar las tomas por costo\n",
        "    return sorted(tomas, key=lambda x: sum(x))\n",
        "\n",
        "def calcular_costo_total(tomas, inicio, fin):\n",
        "    # Función para calcular el costo total de un conjunto de tomas\n",
        "    costo_total = 0\n",
        "    for i in range(inicio, fin):\n",
        "        costo_total += sum(tomas[i])\n",
        "    return costo_total\n",
        "\n",
        "def planificar_sesiones_grabacion(tomas, N):\n",
        "    # Ordenar las tomas por costo\n",
        "    tomas_ordenadas = ordenar_por_costo(tomas)\n",
        "\n",
        "    # Definir la matriz de programación dinámica\n",
        "    dp = [[float('inf')] * (N+1) for _ in range(len(tomas_ordenadas)+1)]\n",
        "\n",
        "    # Inicialización de la matriz\n",
        "    dp[0][0] = 0\n",
        "\n",
        "    # Calcular la matriz dp\n",
        "    for i in range(1, len(tomas_ordenadas) + 1):\n",
        "        for j in range(1, N + 1):\n",
        "            for k in range(0, i):\n",
        "                dp[i][j] = min(dp[i][j], dp[k][j-1] + calcular_costo_total(tomas_ordenadas, k, i))\n",
        "\n",
        "    # Recuperar la solución óptima\n",
        "    solucion_optima = []\n",
        "    i = len(tomas_ordenadas)\n",
        "    j = N\n",
        "    while i > 0 and j > 0:\n",
        "        for k in range(0, i):\n",
        "            if dp[i][j] == dp[k][j-1] + calcular_costo_total(tomas_ordenadas, k, i):\n",
        "                solucion_optima.insert(0, tomas_ordenadas[k:i])\n",
        "                i = k\n",
        "                j -= 1\n",
        "                break\n",
        "\n",
        "    return solucion_optima\n",
        "\n",
        "# Ejemplo de tomas\n",
        "tomas =[\n",
        "    [1, 1, 1, 1, 1, 0, 0, 0, 0, 0],\n",
        "    [0, 0, 1, 1, 1, 0, 0, 0, 0, 0],\n",
        "    [0, 1, 0, 0, 1, 0, 1, 0, 0, 0],\n",
        "    [1, 1, 0, 0, 0, 0, 1, 1, 0, 0],\n",
        "    [0, 1, 0, 1, 0, 0, 0, 1, 0, 0],\n",
        "    [1, 1, 0, 1, 1, 0, 0, 0, 0, 0],\n",
        "    [1, 1, 0, 1, 1, 0, 0, 0, 0, 0],\n",
        "    [1, 1, 0, 0, 0, 1, 0, 0, 0, 0],\n",
        "    [1, 1, 0, 1, 0, 0, 0, 0, 0, 0],\n",
        "    [1, 1, 0, 0, 0, 1, 0, 0, 1, 0],\n",
        "    [1, 1, 1, 0, 1, 0, 0, 1, 0, 0],\n",
        "    [1, 1, 1, 1, 0, 1, 0, 0, 0, 0],\n",
        "    [1, 0, 0, 1, 1, 0, 0, 0, 0, 0],\n",
        "    [1, 0, 1, 0, 0, 1, 0, 0, 0, 0],\n",
        "    [1, 1, 0, 0, 0, 0, 1, 0, 0, 0],\n",
        "    [0, 0, 0, 1, 0, 0, 0, 0, 0, 1],\n",
        "    [1, 0, 1, 0, 0, 0, 0, 0, 0, 0],\n",
        "    [0, 0, 1, 0, 0, 1, 0, 0, 0, 0],\n",
        "    [1, 0, 1, 0, 0, 0, 0, 0, 0, 0],\n",
        "    [1, 0, 1, 1, 1, 0, 0, 0, 0, 0],\n",
        "    [0, 0, 0, 0, 0, 1, 0, 1, 0, 0],\n",
        "    [1, 1, 1, 1, 0, 0, 0, 0, 0, 0],\n",
        "    [1, 0, 1, 0, 0, 0, 0, 0, 0, 0], #23\n",
        "    [0, 0, 1, 0, 0, 1, 0, 0, 0, 0], #24\n",
        "    [1, 1, 0, 1, 0, 0, 0, 0, 0, 1], #25\n",
        "    [1, 0, 1, 0, 1, 0, 0, 0, 1, 0], #26\n",
        "    [0, 0, 0, 1, 1, 0, 0, 0, 0, 0], #27\n",
        "    [1, 0, 0, 1, 0, 0, 0, 0, 0, 0], #28\n",
        "    [1, 0, 0, 0, 1, 1, 0, 0, 0, 0], #29\n",
        "    [1, 0, 0, 1, 0, 0, 0, 0, 0, 0] #30\n",
        "]\n",
        "# Planificar sesiones de grabación\n",
        "N = 6\n",
        "solucion_optima = planificar_sesiones_grabacion(tomas, N)\n",
        "\n",
        "# Imprimir la solución óptima\n",
        "print(\"Planificación óptima de las sesiones de grabación:\")\n",
        "for i, sesion in enumerate(solucion_optima, start=1):\n",
        "    print(\"Sesión\", i, \":\", sesion)\n"
      ],
      "metadata": {
        "colab": {
          "base_uri": "https://localhost:8080/"
        },
        "id": "YAsRZ-tak0au",
        "outputId": "a8755c47-4dce-4784-9271-e3bee79a9544"
      },
      "execution_count": 12,
      "outputs": [
        {
          "output_type": "stream",
          "name": "stdout",
          "text": [
            "Planificación óptima de las sesiones de grabación:\n",
            "Sesión 1 : [[0, 0, 0, 1, 0, 0, 0, 0, 0, 1]]\n",
            "Sesión 2 : [[1, 0, 1, 0, 0, 0, 0, 0, 0, 0]]\n",
            "Sesión 3 : [[0, 0, 1, 0, 0, 1, 0, 0, 0, 0]]\n",
            "Sesión 4 : [[1, 0, 1, 0, 0, 0, 0, 0, 0, 0]]\n",
            "Sesión 5 : [[0, 0, 0, 0, 0, 1, 0, 1, 0, 0]]\n",
            "Sesión 6 : [[1, 0, 1, 0, 0, 0, 0, 0, 0, 0], [0, 0, 1, 0, 0, 1, 0, 0, 0, 0], [0, 0, 0, 1, 1, 0, 0, 0, 0, 0], [1, 0, 0, 1, 0, 0, 0, 0, 0, 0], [1, 0, 0, 1, 0, 0, 0, 0, 0, 0], [0, 0, 1, 1, 1, 0, 0, 0, 0, 0], [0, 1, 0, 0, 1, 0, 1, 0, 0, 0], [0, 1, 0, 1, 0, 0, 0, 1, 0, 0], [1, 1, 0, 0, 0, 1, 0, 0, 0, 0], [1, 1, 0, 1, 0, 0, 0, 0, 0, 0], [1, 0, 0, 1, 1, 0, 0, 0, 0, 0], [1, 0, 1, 0, 0, 1, 0, 0, 0, 0], [1, 1, 0, 0, 0, 0, 1, 0, 0, 0], [1, 0, 0, 0, 1, 1, 0, 0, 0, 0], [1, 1, 0, 0, 0, 0, 1, 1, 0, 0], [1, 1, 0, 1, 1, 0, 0, 0, 0, 0], [1, 1, 0, 1, 1, 0, 0, 0, 0, 0], [1, 1, 0, 0, 0, 1, 0, 0, 1, 0], [1, 0, 1, 1, 1, 0, 0, 0, 0, 0], [1, 1, 1, 1, 0, 0, 0, 0, 0, 0], [1, 1, 0, 1, 0, 0, 0, 0, 0, 1], [1, 0, 1, 0, 1, 0, 0, 0, 1, 0], [1, 1, 1, 1, 1, 0, 0, 0, 0, 0], [1, 1, 1, 0, 1, 0, 0, 1, 0, 0], [1, 1, 1, 1, 0, 1, 0, 0, 0, 0]]\n"
          ]
        }
      ]
    },
    {
      "cell_type": "markdown",
      "source": [
        "---\n",
        "---"
      ],
      "metadata": {
        "id": "YHXhfvUrmZ83"
      }
    },
    {
      "cell_type": "markdown",
      "metadata": {
        "id": "eGDB4K6uk1iN"
      },
      "source": [
        "(*)Calcula la complejidad del algoritmo"
      ]
    },
    {
      "cell_type": "markdown",
      "metadata": {
        "id": "NhpTh_BPk1ms"
      },
      "source": [
        "Respuesta"
      ]
    },
    {
      "cell_type": "markdown",
      "source": [
        "<b>La complejidad del algoritmo de planificación de sesiones de grabación es CUADRÁTICA (O(n^2)).</b>\n",
        "\n",
        "\n",
        "Para calcular la complejidad del algoritmo, vamos a analizar cada una de las funciones:\n",
        "\n",
        "1. ordenar_por_costo(tomas):\n",
        "- Utiliza la función sorted, que generalmente tiene una complejidad de O(n log n), donde 'n' es el número de elementos en la lista tomas.\n",
        "2. calcular_costo_total(tomas, inicio, fin):\n",
        "- Itera sobre un rango de elementos desde inicio hasta fin y suma los costos de cada toma.\n",
        "- Suponiendo que cada toma tiene una longitud fija 'm', la complejidad de esta función es O((fin - inicio) * m).\n",
        "3. planificar_sesiones_grabacion(tomas, N):\n",
        "- Ordena las tomas utilizando ordenar_por_costo, que tiene una complejidad de O(n log n), donde 'n' es el número de tomas.\n",
        "- Luego, inicializa una matriz de programación dinámica de tamaño (len(tomas_ordenadas) + 1) x (N + 1), lo que lleva O(n * N) tiempo.\n",
        "- Después, llena esta matriz utilizando tres bucles anidados, cada uno con un máximo de N iteraciones, lo que resulta en una complejidad de O(n * N^2).\n",
        "- Finalmente, la recuperación de la solución óptima se realiza en un bucle mientras se disminuye 'i' y 'j', lo que lleva tiempo O(n).<br><br>\n",
        "\n",
        "Dado que la operación dominante es el llenado de la matriz de programación dinámica, la complejidad total del algoritmo es O(n * N^2), donde 'n' es el número de tomas y 'N' es el número de sesiones de grabación.\n"
      ],
      "metadata": {
        "id": "kGyLJ73EtjK6"
      }
    },
    {
      "cell_type": "markdown",
      "source": [
        "---\n",
        "---"
      ],
      "metadata": {
        "id": "nD_sX0V3uoHI"
      }
    },
    {
      "cell_type": "markdown",
      "metadata": {
        "id": "3M6QjTsSkmYe"
      },
      "source": [
        "Según el problema (y tenga sentido), diseña un juego de datos de entrada aleatorios"
      ]
    },
    {
      "cell_type": "markdown",
      "metadata": {
        "id": "Jc3_OlyNkvjZ"
      },
      "source": [
        "Respuesta"
      ]
    },
    {
      "cell_type": "markdown",
      "source": [
        "1. Generar los datos para las tomas, donde cada toma estará representada por una lista de 10 elementos (uno por cada actor), indicando si el actor está presente (1) o no (0) en esa toma.\n",
        "2. Definir el número de tomas que aparecen juntas, es decir, en las que los actores deben coincidir.\n",
        "3. Asignar un costo aleatorio para el desplazamiento de los actores por día."
      ],
      "metadata": {
        "id": "vUpUgn7VvHvF"
      }
    },
    {
      "cell_type": "code",
      "metadata": {
        "id": "sJ-N2etjkyWc",
        "colab": {
          "base_uri": "https://localhost:8080/"
        },
        "outputId": "3e1d656b-7247-4811-8f10-8a5e820d818b"
      },
      "source": [
        "import random\n",
        "\n",
        "def generar_tomas(num_tomas, num_actores):\n",
        "    tomas = []\n",
        "    for _ in range(num_tomas):\n",
        "        toma = [random.randint(0, 1) for _ in range(num_actores)]\n",
        "        tomas.append(toma)\n",
        "    return tomas\n",
        "\n",
        "def generar_relaciones_tomas(num_tomas, num_relaciones):\n",
        "    relaciones = []\n",
        "    for _ in range(num_relaciones):\n",
        "        relacion = random.sample(range(num_tomas), 2)\n",
        "        relaciones.append(relacion)\n",
        "    return relaciones\n",
        "\n",
        "def generar_costo_desplazamiento(num_dias):\n",
        "    return [random.randint(100, 500) for _ in range(num_dias)]\n",
        "\n",
        "# Definir los parámetros del problema\n",
        "num_actores = 10\n",
        "num_tomas = 30\n",
        "num_relaciones = 20\n",
        "num_dias = num_tomas // 6  # Calcular el número de días necesarios\n",
        "\n",
        "# Generar los datos\n",
        "tomas = generar_tomas(num_tomas, num_actores)\n",
        "relaciones_tomas = generar_relaciones_tomas(num_tomas, num_relaciones)\n",
        "costo_desplazamiento = generar_costo_desplazamiento(num_dias)\n",
        "\n",
        "# Imprimir los datos generados\n",
        "print(\"Datos generados:\")\n",
        "print(\"Tomas:\", tomas)\n",
        "print(\"Relaciones entre tomas:\", relaciones_tomas)\n",
        "print(\"Costo de desplazamiento por día:\", costo_desplazamiento)\n"
      ],
      "execution_count": 17,
      "outputs": [
        {
          "output_type": "stream",
          "name": "stdout",
          "text": [
            "Datos generados:\n",
            "Tomas: [[0, 0, 1, 0, 0, 1, 0, 0, 1, 1], [0, 1, 1, 1, 0, 0, 0, 1, 1, 0], [1, 0, 0, 0, 0, 0, 1, 0, 1, 1], [0, 1, 0, 1, 0, 0, 1, 0, 1, 0], [1, 0, 0, 0, 1, 0, 1, 1, 0, 0], [1, 1, 0, 0, 0, 1, 1, 1, 0, 0], [0, 1, 1, 1, 0, 0, 1, 1, 0, 0], [0, 0, 0, 0, 1, 1, 1, 1, 0, 0], [0, 1, 0, 0, 0, 1, 1, 1, 0, 1], [1, 1, 1, 0, 1, 1, 1, 0, 0, 1], [0, 1, 1, 0, 0, 0, 0, 1, 0, 0], [1, 1, 0, 1, 0, 1, 1, 1, 0, 0], [1, 0, 1, 0, 0, 0, 0, 1, 0, 1], [0, 0, 1, 0, 0, 1, 0, 1, 1, 1], [1, 0, 0, 0, 0, 0, 0, 0, 0, 1], [0, 0, 1, 0, 1, 0, 0, 1, 0, 0], [0, 1, 0, 1, 0, 1, 0, 0, 1, 0], [0, 1, 0, 1, 0, 1, 0, 1, 0, 0], [1, 0, 0, 1, 0, 1, 1, 0, 0, 1], [0, 0, 0, 0, 1, 0, 1, 1, 0, 1], [0, 1, 0, 0, 1, 1, 0, 1, 1, 1], [0, 1, 0, 1, 1, 1, 1, 0, 0, 0], [0, 0, 0, 1, 0, 1, 0, 0, 1, 0], [1, 1, 1, 0, 0, 1, 1, 0, 1, 1], [0, 1, 0, 0, 0, 1, 1, 1, 1, 0], [1, 1, 1, 1, 1, 1, 0, 1, 0, 1], [0, 1, 0, 1, 0, 1, 0, 0, 0, 0], [1, 1, 1, 0, 1, 1, 1, 0, 1, 1], [1, 0, 1, 1, 0, 0, 1, 1, 0, 1], [1, 1, 1, 0, 0, 0, 1, 0, 0, 1]]\n",
            "Relaciones entre tomas: [[8, 7], [5, 25], [23, 24], [3, 16], [28, 23], [2, 8], [1, 26], [25, 7], [15, 24], [18, 22], [25, 24], [14, 7], [5, 26], [19, 15], [2, 27], [25, 2], [3, 9], [19, 11], [26, 20], [26, 12]]\n",
            "Costo de desplazamiento por día: [429, 337, 250, 338, 257]\n"
          ]
        }
      ]
    },
    {
      "cell_type": "markdown",
      "source": [
        "---\n",
        "---"
      ],
      "metadata": {
        "id": "U00bGHRawXmg"
      }
    },
    {
      "cell_type": "markdown",
      "metadata": {
        "id": "zy5ZROmjlGo1"
      },
      "source": [
        "Aplica el algoritmo al juego de datos generado"
      ]
    },
    {
      "cell_type": "markdown",
      "metadata": {
        "id": "_Cmj-PVylMsa"
      },
      "source": [
        "Respuesta"
      ]
    },
    {
      "cell_type": "markdown",
      "source": [
        "---\n",
        "---"
      ],
      "metadata": {
        "id": "rWmJbu_qwV07"
      }
    },
    {
      "cell_type": "markdown",
      "metadata": {
        "id": "eTFWUJQrtGcv"
      },
      "source": [
        "Enumera las referencias que has utilizado(si ha sido necesario) para llevar a cabo el trabajo"
      ]
    },
    {
      "cell_type": "markdown",
      "metadata": {
        "id": "YKQ_mRBttWsP"
      },
      "source": [
        "Respuesta"
      ]
    },
    {
      "cell_type": "markdown",
      "source": [
        "- [1] http://eio.usc.es/pub/mte/descargas/ProyectosFinMaster/Proyecto_759.pdf\n",
        "- [2] https://www.dii.uchile.cl/~ris/articulos/Prismas.pdf\n",
        "- [3] https://www.sgapeio.es/descargas/congresos_SGAPEIO/xsgapeio.uvigo.es/resumenes/41_14_paper.pdf\n",
        "- [4] https://bibdigital.epn.edu.ec/bitstream/15000/2464/1/CD-3170.pdf"
      ],
      "metadata": {
        "id": "6GrvzNWEwlxg"
      }
    },
    {
      "cell_type": "markdown",
      "source": [
        "---\n",
        "---"
      ],
      "metadata": {
        "id": "H3GFO427wmXq"
      }
    },
    {
      "cell_type": "markdown",
      "metadata": {
        "id": "kAkDPUyRtYyH"
      },
      "source": [
        "Describe brevemente las lineas de como crees que es posible avanzar en el estudio del problema. Ten en cuenta incluso posibles variaciones del problema y/o variaciones al alza del tamaño"
      ]
    },
    {
      "cell_type": "markdown",
      "metadata": {
        "id": "IE0uZmo-tZu-"
      },
      "source": [
        "Respuesta"
      ]
    },
    {
      "cell_type": "markdown",
      "source": [
        "1. **Optimización del algoritmo existente**: Se podría investigar cómo mejorar el rendimiento del algoritmo actual, ya sea reduciendo su complejidad temporal o encontrando enfoques más eficientes para la planificación de sesiones de doblaje.\n",
        "\n",
        "2. **Exploración de variaciones del problema**: Se pueden explorar variaciones del problema original, como permitir un número variable de tomas por día, considerar costos variables para los actores o tomas, o incluso introducir restricciones adicionales como la disponibilidad de ciertos actores en determinados días.\n",
        "\n",
        "3. **Implementación de algoritmos alternativos**: Se podrían investigar y comparar diferentes enfoques algorítmicos para resolver el problema, como algoritmos de programación lineal, algoritmos genéticos o métodos heurísticos avanzados.\n",
        "\n",
        "4. **Estudio de casos reales**: Se podría analizar cómo se maneja este problema en la industria del cine y la televisión, estudiar casos reales de programación de sesiones de doblaje y comparar los enfoques utilizados en la práctica con los enfoques algorítmicos propuestos.\n",
        "\n",
        "5. **Evaluación de la escalabilidad**: Sería útil evaluar cómo el algoritmo actual se comporta con conjuntos de datos más grandes, tanto en términos de tiempo de ejecución como de calidad de la solución. Esto podría implicar la generación de conjuntos de datos más grandes y la realización de pruebas exhaustivas.\n"
      ],
      "metadata": {
        "id": "JnNkX57-xN6y"
      }
    },
    {
      "cell_type": "markdown",
      "source": [
        "---\n",
        "---\n",
        "# FINAL"
      ],
      "metadata": {
        "id": "QRO1jlNexPvG"
      }
    }
  ]
}